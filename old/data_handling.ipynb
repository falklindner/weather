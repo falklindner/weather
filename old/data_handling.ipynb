{
 "cells": [
  {
   "cell_type": "code",
   "execution_count": 2,
   "metadata": {},
   "outputs": [],
   "source": [
    "import pandas as pd\n",
    "import time \n",
    "import json\n",
    "import urllib.request\n",
    "from datetime import timedelta\n",
    "import matplotlib.pyplot as plt\n",
    "import numpy as np#\n",
    "from pandas.io.json import json_normalize"
   ]
  },
  {
   "cell_type": "code",
   "execution_count": null,
   "metadata": {},
   "outputs": [],
   "source": []
  },
  {
   "cell_type": "markdown",
   "metadata": {},
   "source": [
    "Importing RPi Data "
   ]
  },
  {
   "cell_type": "code",
   "execution_count": 3,
   "metadata": {},
   "outputs": [],
   "source": [
    "df = pd.read_json(\"https://alte-rs.ddnss.de/weather/processed/history.json\")"
   ]
  },
  {
   "cell_type": "code",
   "execution_count": 4,
   "metadata": {
    "collapsed": true
   },
   "outputs": [],
   "source": [
    "df['time'] = pd.to_datetime(df['time'])"
   ]
  },
  {
   "cell_type": "code",
   "execution_count": 5,
   "metadata": {
    "collapsed": true
   },
   "outputs": [],
   "source": [
    "df['temp'] = pd.to_numeric(df['temp'])"
   ]
  },
  {
   "cell_type": "code",
   "execution_count": 6,
   "metadata": {
    "collapsed": true
   },
   "outputs": [],
   "source": [
    "df['pressure'] = pd.to_numeric(df['pressure'])"
   ]
  },
  {
   "cell_type": "code",
   "execution_count": 7,
   "metadata": {
    "collapsed": true
   },
   "outputs": [],
   "source": [
    "df['humidity'] = pd.to_numeric(df['humidity'])"
   ]
  },
  {
   "cell_type": "code",
   "execution_count": 8,
   "metadata": {
    "collapsed": true
   },
   "outputs": [],
   "source": [
    "dataframe_rpi = df.set_index('time')"
   ]
  },
  {
   "cell_type": "code",
   "execution_count": 9,
   "metadata": {},
   "outputs": [],
   "source": [
    "rolling = dataframe_rpi.rolling(window='120min',min_periods=10).mean()"
   ]
  },
  {
   "cell_type": "code",
   "execution_count": 10,
   "metadata": {},
   "outputs": [
    {
     "data": {
      "text/plain": [
       "humidity    18\n",
       "pressure    18\n",
       "temp        18\n",
       "dtype: int64"
      ]
     },
     "execution_count": 10,
     "metadata": {},
     "output_type": "execute_result"
    }
   ],
   "source": [
    "rolling.isnull().sum()"
   ]
  },
  {
   "cell_type": "code",
   "execution_count": null,
   "metadata": {},
   "outputs": [],
   "source": []
  },
  {
   "cell_type": "code",
   "execution_count": null,
   "metadata": {},
   "outputs": [],
   "source": []
  },
  {
   "cell_type": "markdown",
   "metadata": {},
   "source": [
    "Importing OWM Data"
   ]
  },
  {
   "cell_type": "code",
   "execution_count": 11,
   "metadata": {},
   "outputs": [],
   "source": [
    "with urllib.request.urlopen(\"https://alte-rs.ddnss.de/weather/processed/history_owm.json\") as url:\n",
    "    data2 = json.loads(url.read().decode())"
   ]
  },
  {
   "cell_type": "code",
   "execution_count": 14,
   "metadata": {},
   "outputs": [],
   "source": [
    "temp = json_normalize(data2)"
   ]
  },
  {
   "cell_type": "code",
   "execution_count": 66,
   "metadata": {},
   "outputs": [],
   "source": [
    "temp['time'] = pd.to_datetime(temp['dt'],unit='s')"
   ]
  },
  {
   "cell_type": "code",
   "execution_count": 47,
   "metadata": {},
   "outputs": [],
   "source": [
    "temp['temp'] = pd.to_numeric(temp['main.temp'])-273.15"
   ]
  },
  {
   "cell_type": "code",
   "execution_count": 48,
   "metadata": {},
   "outputs": [],
   "source": [
    "temp['humidity'] = pd.to_numeric(temp['main.humidity'])"
   ]
  },
  {
   "cell_type": "code",
   "execution_count": 49,
   "metadata": {},
   "outputs": [],
   "source": [
    "temp['pressure'] = pd.to_numeric(temp['main.pressure'])"
   ]
  },
  {
   "cell_type": "code",
   "execution_count": 67,
   "metadata": {},
   "outputs": [],
   "source": [
    "dataframe_owm = temp.set_index('time')"
   ]
  },
  {
   "cell_type": "code",
   "execution_count": 68,
   "metadata": {},
   "outputs": [],
   "source": [
    "test_owm = dataframe_owm[['temp']]"
   ]
  },
  {
   "cell_type": "code",
   "execution_count": 75,
   "metadata": {},
   "outputs": [
    {
     "data": {
      "text/html": [
       "<div>\n",
       "<style scoped>\n",
       "    .dataframe tbody tr th:only-of-type {\n",
       "        vertical-align: middle;\n",
       "    }\n",
       "\n",
       "    .dataframe tbody tr th {\n",
       "        vertical-align: top;\n",
       "    }\n",
       "\n",
       "    .dataframe thead th {\n",
       "        text-align: right;\n",
       "    }\n",
       "</style>\n",
       "<table border=\"1\" class=\"dataframe\">\n",
       "  <thead>\n",
       "    <tr style=\"text-align: right;\">\n",
       "      <th></th>\n",
       "      <th>temp</th>\n",
       "    </tr>\n",
       "    <tr>\n",
       "      <th>time</th>\n",
       "      <th></th>\n",
       "    </tr>\n",
       "  </thead>\n",
       "  <tbody>\n",
       "    <tr>\n",
       "      <th>2018-06-16 20:50:00</th>\n",
       "      <td>17.50</td>\n",
       "    </tr>\n",
       "    <tr>\n",
       "      <th>2018-06-16 20:50:00</th>\n",
       "      <td>17.50</td>\n",
       "    </tr>\n",
       "    <tr>\n",
       "      <th>2018-06-16 20:50:00</th>\n",
       "      <td>17.51</td>\n",
       "    </tr>\n",
       "    <tr>\n",
       "      <th>2018-06-16 20:50:00</th>\n",
       "      <td>17.51</td>\n",
       "    </tr>\n",
       "    <tr>\n",
       "      <th>2018-06-16 20:50:00</th>\n",
       "      <td>17.51</td>\n",
       "    </tr>\n",
       "  </tbody>\n",
       "</table>\n",
       "</div>"
      ],
      "text/plain": [
       "                      temp\n",
       "time                      \n",
       "2018-06-16 20:50:00  17.50\n",
       "2018-06-16 20:50:00  17.50\n",
       "2018-06-16 20:50:00  17.51\n",
       "2018-06-16 20:50:00  17.51\n",
       "2018-06-16 20:50:00  17.51"
      ]
     },
     "execution_count": 75,
     "metadata": {},
     "output_type": "execute_result"
    }
   ],
   "source": [
    "test_owm.head()"
   ]
  },
  {
   "cell_type": "code",
   "execution_count": 88,
   "metadata": {},
   "outputs": [],
   "source": [
    "rolling_owm = test_owm.rolling(window='120min').mean()"
   ]
  },
  {
   "cell_type": "code",
   "execution_count": 87,
   "metadata": {},
   "outputs": [
    {
     "data": {
      "text/html": [
       "<div>\n",
       "<style scoped>\n",
       "    .dataframe tbody tr th:only-of-type {\n",
       "        vertical-align: middle;\n",
       "    }\n",
       "\n",
       "    .dataframe tbody tr th {\n",
       "        vertical-align: top;\n",
       "    }\n",
       "\n",
       "    .dataframe thead th {\n",
       "        text-align: right;\n",
       "    }\n",
       "</style>\n",
       "<table border=\"1\" class=\"dataframe\">\n",
       "  <thead>\n",
       "    <tr style=\"text-align: right;\">\n",
       "      <th></th>\n",
       "      <th>temp</th>\n",
       "    </tr>\n",
       "    <tr>\n",
       "      <th>time</th>\n",
       "      <th></th>\n",
       "    </tr>\n",
       "  </thead>\n",
       "  <tbody>\n",
       "    <tr>\n",
       "      <th>2018-07-18 06:20:00</th>\n",
       "      <td>16.160</td>\n",
       "    </tr>\n",
       "    <tr>\n",
       "      <th>2018-07-18 08:50:00</th>\n",
       "      <td>18.835</td>\n",
       "    </tr>\n",
       "    <tr>\n",
       "      <th>2018-07-18 11:20:00</th>\n",
       "      <td>21.550</td>\n",
       "    </tr>\n",
       "    <tr>\n",
       "      <th>2018-07-18 14:20:00</th>\n",
       "      <td>23.035</td>\n",
       "    </tr>\n",
       "    <tr>\n",
       "      <th>2018-07-18 16:50:00</th>\n",
       "      <td>23.030</td>\n",
       "    </tr>\n",
       "  </tbody>\n",
       "</table>\n",
       "</div>"
      ],
      "text/plain": [
       "                       temp\n",
       "time                       \n",
       "2018-07-18 06:20:00  16.160\n",
       "2018-07-18 08:50:00  18.835\n",
       "2018-07-18 11:20:00  21.550\n",
       "2018-07-18 14:20:00  23.035\n",
       "2018-07-18 16:50:00  23.030"
      ]
     },
     "execution_count": 87,
     "metadata": {},
     "output_type": "execute_result"
    }
   ],
   "source": [
    "rolling_owm.tail()"
   ]
  },
  {
   "cell_type": "code",
   "execution_count": null,
   "metadata": {},
   "outputs": [],
   "source": []
  },
  {
   "cell_type": "code",
   "execution_count": null,
   "metadata": {},
   "outputs": [],
   "source": []
  },
  {
   "cell_type": "code",
   "execution_count": 53,
   "metadata": {},
   "outputs": [],
   "source": [
    "test_rpi = dataframe_rpi[['temp']]-15"
   ]
  },
  {
   "cell_type": "code",
   "execution_count": 54,
   "metadata": {},
   "outputs": [
    {
     "data": {
      "text/html": [
       "<div>\n",
       "<style scoped>\n",
       "    .dataframe tbody tr th:only-of-type {\n",
       "        vertical-align: middle;\n",
       "    }\n",
       "\n",
       "    .dataframe tbody tr th {\n",
       "        vertical-align: top;\n",
       "    }\n",
       "\n",
       "    .dataframe thead th {\n",
       "        text-align: right;\n",
       "    }\n",
       "</style>\n",
       "<table border=\"1\" class=\"dataframe\">\n",
       "  <thead>\n",
       "    <tr style=\"text-align: right;\">\n",
       "      <th></th>\n",
       "      <th>temp</th>\n",
       "    </tr>\n",
       "    <tr>\n",
       "      <th>time</th>\n",
       "      <th></th>\n",
       "    </tr>\n",
       "  </thead>\n",
       "  <tbody>\n",
       "    <tr>\n",
       "      <th>2018-06-22 16:20:01.656</th>\n",
       "      <td>13.907051</td>\n",
       "    </tr>\n",
       "    <tr>\n",
       "      <th>2018-06-22 16:20:40.606</th>\n",
       "      <td>13.870728</td>\n",
       "    </tr>\n",
       "    <tr>\n",
       "      <th>2018-06-22 16:21:19.756</th>\n",
       "      <td>13.852566</td>\n",
       "    </tr>\n",
       "    <tr>\n",
       "      <th>2018-06-22 16:21:58.636</th>\n",
       "      <td>13.907051</td>\n",
       "    </tr>\n",
       "    <tr>\n",
       "      <th>2018-06-22 16:22:37.505</th>\n",
       "      <td>13.870728</td>\n",
       "    </tr>\n",
       "  </tbody>\n",
       "</table>\n",
       "</div>"
      ],
      "text/plain": [
       "                              temp\n",
       "time                              \n",
       "2018-06-22 16:20:01.656  13.907051\n",
       "2018-06-22 16:20:40.606  13.870728\n",
       "2018-06-22 16:21:19.756  13.852566\n",
       "2018-06-22 16:21:58.636  13.907051\n",
       "2018-06-22 16:22:37.505  13.870728"
      ]
     },
     "execution_count": 54,
     "metadata": {},
     "output_type": "execute_result"
    }
   ],
   "source": [
    "test_rpi.head()"
   ]
  },
  {
   "cell_type": "code",
   "execution_count": 93,
   "metadata": {},
   "outputs": [],
   "source": [
    "frame = [rolling, rolling_owm]"
   ]
  },
  {
   "cell_type": "code",
   "execution_count": 94,
   "metadata": {},
   "outputs": [],
   "source": [
    "test_merge = pd.concat(frame, join='inner', sort=True)"
   ]
  },
  {
   "cell_type": "code",
   "execution_count": 95,
   "metadata": {},
   "outputs": [
    {
     "ename": "ValueError",
     "evalue": "index must be monotonic",
     "output_type": "error",
     "traceback": [
      "\u001b[1;31m---------------------------------------------------------------------------\u001b[0m",
      "\u001b[1;31mValueError\u001b[0m                                Traceback (most recent call last)",
      "\u001b[1;32m<ipython-input-95-8418d72b9724>\u001b[0m in \u001b[0;36m<module>\u001b[1;34m()\u001b[0m\n\u001b[1;32m----> 1\u001b[1;33m \u001b[0mrolling_merge\u001b[0m \u001b[1;33m=\u001b[0m \u001b[0mtest_merge\u001b[0m\u001b[1;33m.\u001b[0m\u001b[0mrolling\u001b[0m\u001b[1;33m(\u001b[0m\u001b[0mwindow\u001b[0m\u001b[1;33m=\u001b[0m\u001b[1;34m'10min'\u001b[0m\u001b[1;33m,\u001b[0m\u001b[0mmin_periods\u001b[0m\u001b[1;33m=\u001b[0m\u001b[1;36m10\u001b[0m\u001b[1;33m)\u001b[0m\u001b[1;33m.\u001b[0m\u001b[0mmean\u001b[0m\u001b[1;33m(\u001b[0m\u001b[1;33m)\u001b[0m\u001b[1;33m\u001b[0m\u001b[0m\n\u001b[0m",
      "\u001b[1;32m~\\Anaconda3\\lib\\site-packages\\pandas\\core\\generic.py\u001b[0m in \u001b[0;36mrolling\u001b[1;34m(self, window, min_periods, center, win_type, on, axis, closed)\u001b[0m\n\u001b[0;32m   8898\u001b[0m                                    \u001b[0mmin_periods\u001b[0m\u001b[1;33m=\u001b[0m\u001b[0mmin_periods\u001b[0m\u001b[1;33m,\u001b[0m\u001b[1;33m\u001b[0m\u001b[0m\n\u001b[0;32m   8899\u001b[0m                                    \u001b[0mcenter\u001b[0m\u001b[1;33m=\u001b[0m\u001b[0mcenter\u001b[0m\u001b[1;33m,\u001b[0m \u001b[0mwin_type\u001b[0m\u001b[1;33m=\u001b[0m\u001b[0mwin_type\u001b[0m\u001b[1;33m,\u001b[0m\u001b[1;33m\u001b[0m\u001b[0m\n\u001b[1;32m-> 8900\u001b[1;33m                                    on=on, axis=axis, closed=closed)\n\u001b[0m\u001b[0;32m   8901\u001b[0m \u001b[1;33m\u001b[0m\u001b[0m\n\u001b[0;32m   8902\u001b[0m         \u001b[0mcls\u001b[0m\u001b[1;33m.\u001b[0m\u001b[0mrolling\u001b[0m \u001b[1;33m=\u001b[0m \u001b[0mrolling\u001b[0m\u001b[1;33m\u001b[0m\u001b[0m\n",
      "\u001b[1;32m~\\Anaconda3\\lib\\site-packages\\pandas\\core\\window.py\u001b[0m in \u001b[0;36mrolling\u001b[1;34m(obj, win_type, **kwds)\u001b[0m\n\u001b[0;32m   2467\u001b[0m         \u001b[1;32mreturn\u001b[0m \u001b[0mWindow\u001b[0m\u001b[1;33m(\u001b[0m\u001b[0mobj\u001b[0m\u001b[1;33m,\u001b[0m \u001b[0mwin_type\u001b[0m\u001b[1;33m=\u001b[0m\u001b[0mwin_type\u001b[0m\u001b[1;33m,\u001b[0m \u001b[1;33m**\u001b[0m\u001b[0mkwds\u001b[0m\u001b[1;33m)\u001b[0m\u001b[1;33m\u001b[0m\u001b[0m\n\u001b[0;32m   2468\u001b[0m \u001b[1;33m\u001b[0m\u001b[0m\n\u001b[1;32m-> 2469\u001b[1;33m     \u001b[1;32mreturn\u001b[0m \u001b[0mRolling\u001b[0m\u001b[1;33m(\u001b[0m\u001b[0mobj\u001b[0m\u001b[1;33m,\u001b[0m \u001b[1;33m**\u001b[0m\u001b[0mkwds\u001b[0m\u001b[1;33m)\u001b[0m\u001b[1;33m\u001b[0m\u001b[0m\n\u001b[0m\u001b[0;32m   2470\u001b[0m \u001b[1;33m\u001b[0m\u001b[0m\n\u001b[0;32m   2471\u001b[0m \u001b[1;33m\u001b[0m\u001b[0m\n",
      "\u001b[1;32m~\\Anaconda3\\lib\\site-packages\\pandas\\core\\window.py\u001b[0m in \u001b[0;36m__init__\u001b[1;34m(self, obj, window, min_periods, center, win_type, axis, on, closed, **kwargs)\u001b[0m\n\u001b[0;32m     78\u001b[0m         \u001b[0mself\u001b[0m\u001b[1;33m.\u001b[0m\u001b[0mwin_freq\u001b[0m \u001b[1;33m=\u001b[0m \u001b[1;32mNone\u001b[0m\u001b[1;33m\u001b[0m\u001b[0m\n\u001b[0;32m     79\u001b[0m         \u001b[0mself\u001b[0m\u001b[1;33m.\u001b[0m\u001b[0maxis\u001b[0m \u001b[1;33m=\u001b[0m \u001b[0mobj\u001b[0m\u001b[1;33m.\u001b[0m\u001b[0m_get_axis_number\u001b[0m\u001b[1;33m(\u001b[0m\u001b[0maxis\u001b[0m\u001b[1;33m)\u001b[0m \u001b[1;32mif\u001b[0m \u001b[0maxis\u001b[0m \u001b[1;32mis\u001b[0m \u001b[1;32mnot\u001b[0m \u001b[1;32mNone\u001b[0m \u001b[1;32melse\u001b[0m \u001b[1;32mNone\u001b[0m\u001b[1;33m\u001b[0m\u001b[0m\n\u001b[1;32m---> 80\u001b[1;33m         \u001b[0mself\u001b[0m\u001b[1;33m.\u001b[0m\u001b[0mvalidate\u001b[0m\u001b[1;33m(\u001b[0m\u001b[1;33m)\u001b[0m\u001b[1;33m\u001b[0m\u001b[0m\n\u001b[0m\u001b[0;32m     81\u001b[0m \u001b[1;33m\u001b[0m\u001b[0m\n\u001b[0;32m     82\u001b[0m     \u001b[1;33m@\u001b[0m\u001b[0mproperty\u001b[0m\u001b[1;33m\u001b[0m\u001b[0m\n",
      "\u001b[1;32m~\\Anaconda3\\lib\\site-packages\\pandas\\core\\window.py\u001b[0m in \u001b[0;36mvalidate\u001b[1;34m(self)\u001b[0m\n\u001b[0;32m   1457\u001b[0m                                          timedelta))):\n\u001b[0;32m   1458\u001b[0m \u001b[1;33m\u001b[0m\u001b[0m\n\u001b[1;32m-> 1459\u001b[1;33m             \u001b[0mself\u001b[0m\u001b[1;33m.\u001b[0m\u001b[0m_validate_monotonic\u001b[0m\u001b[1;33m(\u001b[0m\u001b[1;33m)\u001b[0m\u001b[1;33m\u001b[0m\u001b[0m\n\u001b[0m\u001b[0;32m   1460\u001b[0m             \u001b[0mfreq\u001b[0m \u001b[1;33m=\u001b[0m \u001b[0mself\u001b[0m\u001b[1;33m.\u001b[0m\u001b[0m_validate_freq\u001b[0m\u001b[1;33m(\u001b[0m\u001b[1;33m)\u001b[0m\u001b[1;33m\u001b[0m\u001b[0m\n\u001b[0;32m   1461\u001b[0m \u001b[1;33m\u001b[0m\u001b[0m\n",
      "\u001b[1;32m~\\Anaconda3\\lib\\site-packages\\pandas\\core\\window.py\u001b[0m in \u001b[0;36m_validate_monotonic\u001b[1;34m(self)\u001b[0m\n\u001b[0;32m   1489\u001b[0m             \u001b[0mformatted\u001b[0m \u001b[1;33m=\u001b[0m \u001b[0mself\u001b[0m\u001b[1;33m.\u001b[0m\u001b[0mon\u001b[0m \u001b[1;32mor\u001b[0m \u001b[1;34m'index'\u001b[0m\u001b[1;33m\u001b[0m\u001b[0m\n\u001b[0;32m   1490\u001b[0m             raise ValueError(\"{0} must be \"\n\u001b[1;32m-> 1491\u001b[1;33m                              \"monotonic\".format(formatted))\n\u001b[0m\u001b[0;32m   1492\u001b[0m \u001b[1;33m\u001b[0m\u001b[0m\n\u001b[0;32m   1493\u001b[0m     \u001b[1;32mdef\u001b[0m \u001b[0m_validate_freq\u001b[0m\u001b[1;33m(\u001b[0m\u001b[0mself\u001b[0m\u001b[1;33m)\u001b[0m\u001b[1;33m:\u001b[0m\u001b[1;33m\u001b[0m\u001b[0m\n",
      "\u001b[1;31mValueError\u001b[0m: index must be monotonic"
     ]
    }
   ],
   "source": [
    "rolling_merge = test_merge.rolling(window='10min',min_periods=10).mean()"
   ]
  },
  {
   "cell_type": "code",
   "execution_count": 96,
   "metadata": {},
   "outputs": [
    {
     "data": {
      "text/html": [
       "<div>\n",
       "<style scoped>\n",
       "    .dataframe tbody tr th:only-of-type {\n",
       "        vertical-align: middle;\n",
       "    }\n",
       "\n",
       "    .dataframe tbody tr th {\n",
       "        vertical-align: top;\n",
       "    }\n",
       "\n",
       "    .dataframe thead th {\n",
       "        text-align: right;\n",
       "    }\n",
       "</style>\n",
       "<table border=\"1\" class=\"dataframe\">\n",
       "  <thead>\n",
       "    <tr style=\"text-align: right;\">\n",
       "      <th></th>\n",
       "      <th>temp</th>\n",
       "    </tr>\n",
       "    <tr>\n",
       "      <th>time</th>\n",
       "      <th></th>\n",
       "    </tr>\n",
       "  </thead>\n",
       "  <tbody>\n",
       "    <tr>\n",
       "      <th>2018-06-22 16:20:01.656</th>\n",
       "      <td>NaN</td>\n",
       "    </tr>\n",
       "    <tr>\n",
       "      <th>2018-06-22 16:20:40.606</th>\n",
       "      <td>NaN</td>\n",
       "    </tr>\n",
       "    <tr>\n",
       "      <th>2018-06-22 16:21:19.756</th>\n",
       "      <td>NaN</td>\n",
       "    </tr>\n",
       "    <tr>\n",
       "      <th>2018-06-22 16:21:58.636</th>\n",
       "      <td>NaN</td>\n",
       "    </tr>\n",
       "    <tr>\n",
       "      <th>2018-06-22 16:22:37.505</th>\n",
       "      <td>NaN</td>\n",
       "    </tr>\n",
       "    <tr>\n",
       "      <th>2018-06-22 16:23:16.385</th>\n",
       "      <td>NaN</td>\n",
       "    </tr>\n",
       "    <tr>\n",
       "      <th>2018-06-22 16:23:34.065</th>\n",
       "      <td>NaN</td>\n",
       "    </tr>\n",
       "    <tr>\n",
       "      <th>2018-06-22 16:24:12.945</th>\n",
       "      <td>NaN</td>\n",
       "    </tr>\n",
       "    <tr>\n",
       "      <th>2018-06-22 16:24:51.846</th>\n",
       "      <td>NaN</td>\n",
       "    </tr>\n",
       "    <tr>\n",
       "      <th>2018-06-22 16:25:30.796</th>\n",
       "      <td>28.879808</td>\n",
       "    </tr>\n",
       "    <tr>\n",
       "      <th>2018-06-22 16:26:09.786</th>\n",
       "      <td>28.885587</td>\n",
       "    </tr>\n",
       "    <tr>\n",
       "      <th>2018-06-22 16:26:49.606</th>\n",
       "      <td>28.888889</td>\n",
       "    </tr>\n",
       "    <tr>\n",
       "      <th>2018-06-22 16:27:28.556</th>\n",
       "      <td>28.881904</td>\n",
       "    </tr>\n",
       "    <tr>\n",
       "      <th>2018-06-22 16:28:07.626</th>\n",
       "      <td>28.875916</td>\n",
       "    </tr>\n",
       "    <tr>\n",
       "      <th>2018-06-22 16:28:46.845</th>\n",
       "      <td>28.867094</td>\n",
       "    </tr>\n",
       "    <tr>\n",
       "      <th>2018-06-22 16:29:25.946</th>\n",
       "      <td>28.848024</td>\n",
       "    </tr>\n",
       "    <tr>\n",
       "      <th>2018-06-22 16:30:05.176</th>\n",
       "      <td>28.832265</td>\n",
       "    </tr>\n",
       "    <tr>\n",
       "      <th>2018-06-22 16:30:44.135</th>\n",
       "      <td>28.812203</td>\n",
       "    </tr>\n",
       "    <tr>\n",
       "      <th>2018-06-22 16:31:23.095</th>\n",
       "      <td>28.789474</td>\n",
       "    </tr>\n",
       "    <tr>\n",
       "      <th>2018-06-22 16:32:02.125</th>\n",
       "      <td>28.768109</td>\n",
       "    </tr>\n",
       "    <tr>\n",
       "      <th>2018-06-22 16:32:42.015</th>\n",
       "      <td>28.740995</td>\n",
       "    </tr>\n",
       "    <tr>\n",
       "      <th>2018-06-22 16:33:21.985</th>\n",
       "      <td>28.718823</td>\n",
       "    </tr>\n",
       "    <tr>\n",
       "      <th>2018-06-22 16:34:03.286</th>\n",
       "      <td>28.696210</td>\n",
       "    </tr>\n",
       "    <tr>\n",
       "      <th>2018-06-22 16:34:42.886</th>\n",
       "      <td>28.679265</td>\n",
       "    </tr>\n",
       "    <tr>\n",
       "      <th>2018-06-22 16:35:22.575</th>\n",
       "      <td>28.661496</td>\n",
       "    </tr>\n",
       "    <tr>\n",
       "      <th>2018-06-22 16:36:02.356</th>\n",
       "      <td>28.649984</td>\n",
       "    </tr>\n",
       "    <tr>\n",
       "      <th>2018-06-22 16:36:42.285</th>\n",
       "      <td>28.627889</td>\n",
       "    </tr>\n",
       "    <tr>\n",
       "      <th>2018-06-22 16:37:22.075</th>\n",
       "      <td>28.605426</td>\n",
       "    </tr>\n",
       "    <tr>\n",
       "      <th>2018-06-22 16:38:01.545</th>\n",
       "      <td>28.583886</td>\n",
       "    </tr>\n",
       "    <tr>\n",
       "      <th>2018-06-22 16:38:41.255</th>\n",
       "      <td>28.566204</td>\n",
       "    </tr>\n",
       "    <tr>\n",
       "      <th>...</th>\n",
       "      <td>...</td>\n",
       "    </tr>\n",
       "    <tr>\n",
       "      <th>2018-07-15 13:20:00.000</th>\n",
       "      <td>24.000000</td>\n",
       "    </tr>\n",
       "    <tr>\n",
       "      <th>2018-07-15 15:50:00.000</th>\n",
       "      <td>24.320000</td>\n",
       "    </tr>\n",
       "    <tr>\n",
       "      <th>2018-07-15 18:20:00.000</th>\n",
       "      <td>23.000000</td>\n",
       "    </tr>\n",
       "    <tr>\n",
       "      <th>2018-07-15 21:20:00.000</th>\n",
       "      <td>17.500000</td>\n",
       "    </tr>\n",
       "    <tr>\n",
       "      <th>2018-07-15 23:50:00.000</th>\n",
       "      <td>15.010000</td>\n",
       "    </tr>\n",
       "    <tr>\n",
       "      <th>2018-07-16 02:20:00.000</th>\n",
       "      <td>14.010000</td>\n",
       "    </tr>\n",
       "    <tr>\n",
       "      <th>2018-07-16 04:50:00.000</th>\n",
       "      <td>14.640000</td>\n",
       "    </tr>\n",
       "    <tr>\n",
       "      <th>2018-07-16 07:20:00.000</th>\n",
       "      <td>21.640000</td>\n",
       "    </tr>\n",
       "    <tr>\n",
       "      <th>2018-07-16 09:50:00.000</th>\n",
       "      <td>24.640000</td>\n",
       "    </tr>\n",
       "    <tr>\n",
       "      <th>2018-07-16 12:50:00.000</th>\n",
       "      <td>26.970000</td>\n",
       "    </tr>\n",
       "    <tr>\n",
       "      <th>2018-07-16 15:20:00.000</th>\n",
       "      <td>27.290000</td>\n",
       "    </tr>\n",
       "    <tr>\n",
       "      <th>2018-07-16 17:50:00.000</th>\n",
       "      <td>25.640000</td>\n",
       "    </tr>\n",
       "    <tr>\n",
       "      <th>2018-07-16 20:20:00.000</th>\n",
       "      <td>21.010000</td>\n",
       "    </tr>\n",
       "    <tr>\n",
       "      <th>2018-07-16 22:50:00.000</th>\n",
       "      <td>18.010000</td>\n",
       "    </tr>\n",
       "    <tr>\n",
       "      <th>2018-07-17 01:50:00.000</th>\n",
       "      <td>14.010000</td>\n",
       "    </tr>\n",
       "    <tr>\n",
       "      <th>2018-07-17 04:20:00.000</th>\n",
       "      <td>14.500000</td>\n",
       "    </tr>\n",
       "    <tr>\n",
       "      <th>2018-07-17 06:50:00.000</th>\n",
       "      <td>21.230000</td>\n",
       "    </tr>\n",
       "    <tr>\n",
       "      <th>2018-07-17 09:20:00.000</th>\n",
       "      <td>26.320000</td>\n",
       "    </tr>\n",
       "    <tr>\n",
       "      <th>2018-07-17 11:50:00.000</th>\n",
       "      <td>28.360000</td>\n",
       "    </tr>\n",
       "    <tr>\n",
       "      <th>2018-07-17 14:50:00.000</th>\n",
       "      <td>28.650000</td>\n",
       "    </tr>\n",
       "    <tr>\n",
       "      <th>2018-07-17 17:20:00.000</th>\n",
       "      <td>28.000000</td>\n",
       "    </tr>\n",
       "    <tr>\n",
       "      <th>2018-07-17 19:50:00.000</th>\n",
       "      <td>23.370000</td>\n",
       "    </tr>\n",
       "    <tr>\n",
       "      <th>2018-07-17 22:20:00.000</th>\n",
       "      <td>20.000000</td>\n",
       "    </tr>\n",
       "    <tr>\n",
       "      <th>2018-07-18 00:50:00.000</th>\n",
       "      <td>17.490000</td>\n",
       "    </tr>\n",
       "    <tr>\n",
       "      <th>2018-07-18 03:50:00.000</th>\n",
       "      <td>15.000000</td>\n",
       "    </tr>\n",
       "    <tr>\n",
       "      <th>2018-07-18 06:20:00.000</th>\n",
       "      <td>17.320000</td>\n",
       "    </tr>\n",
       "    <tr>\n",
       "      <th>2018-07-18 08:50:00.000</th>\n",
       "      <td>20.350000</td>\n",
       "    </tr>\n",
       "    <tr>\n",
       "      <th>2018-07-18 11:20:00.000</th>\n",
       "      <td>22.750000</td>\n",
       "    </tr>\n",
       "    <tr>\n",
       "      <th>2018-07-18 14:20:00.000</th>\n",
       "      <td>23.320000</td>\n",
       "    </tr>\n",
       "    <tr>\n",
       "      <th>2018-07-18 16:50:00.000</th>\n",
       "      <td>22.740000</td>\n",
       "    </tr>\n",
       "  </tbody>\n",
       "</table>\n",
       "<p>41696 rows × 1 columns</p>\n",
       "</div>"
      ],
      "text/plain": [
       "                              temp\n",
       "time                              \n",
       "2018-06-22 16:20:01.656        NaN\n",
       "2018-06-22 16:20:40.606        NaN\n",
       "2018-06-22 16:21:19.756        NaN\n",
       "2018-06-22 16:21:58.636        NaN\n",
       "2018-06-22 16:22:37.505        NaN\n",
       "2018-06-22 16:23:16.385        NaN\n",
       "2018-06-22 16:23:34.065        NaN\n",
       "2018-06-22 16:24:12.945        NaN\n",
       "2018-06-22 16:24:51.846        NaN\n",
       "2018-06-22 16:25:30.796  28.879808\n",
       "2018-06-22 16:26:09.786  28.885587\n",
       "2018-06-22 16:26:49.606  28.888889\n",
       "2018-06-22 16:27:28.556  28.881904\n",
       "2018-06-22 16:28:07.626  28.875916\n",
       "2018-06-22 16:28:46.845  28.867094\n",
       "2018-06-22 16:29:25.946  28.848024\n",
       "2018-06-22 16:30:05.176  28.832265\n",
       "2018-06-22 16:30:44.135  28.812203\n",
       "2018-06-22 16:31:23.095  28.789474\n",
       "2018-06-22 16:32:02.125  28.768109\n",
       "2018-06-22 16:32:42.015  28.740995\n",
       "2018-06-22 16:33:21.985  28.718823\n",
       "2018-06-22 16:34:03.286  28.696210\n",
       "2018-06-22 16:34:42.886  28.679265\n",
       "2018-06-22 16:35:22.575  28.661496\n",
       "2018-06-22 16:36:02.356  28.649984\n",
       "2018-06-22 16:36:42.285  28.627889\n",
       "2018-06-22 16:37:22.075  28.605426\n",
       "2018-06-22 16:38:01.545  28.583886\n",
       "2018-06-22 16:38:41.255  28.566204\n",
       "...                            ...\n",
       "2018-07-15 13:20:00.000  24.000000\n",
       "2018-07-15 15:50:00.000  24.320000\n",
       "2018-07-15 18:20:00.000  23.000000\n",
       "2018-07-15 21:20:00.000  17.500000\n",
       "2018-07-15 23:50:00.000  15.010000\n",
       "2018-07-16 02:20:00.000  14.010000\n",
       "2018-07-16 04:50:00.000  14.640000\n",
       "2018-07-16 07:20:00.000  21.640000\n",
       "2018-07-16 09:50:00.000  24.640000\n",
       "2018-07-16 12:50:00.000  26.970000\n",
       "2018-07-16 15:20:00.000  27.290000\n",
       "2018-07-16 17:50:00.000  25.640000\n",
       "2018-07-16 20:20:00.000  21.010000\n",
       "2018-07-16 22:50:00.000  18.010000\n",
       "2018-07-17 01:50:00.000  14.010000\n",
       "2018-07-17 04:20:00.000  14.500000\n",
       "2018-07-17 06:50:00.000  21.230000\n",
       "2018-07-17 09:20:00.000  26.320000\n",
       "2018-07-17 11:50:00.000  28.360000\n",
       "2018-07-17 14:50:00.000  28.650000\n",
       "2018-07-17 17:20:00.000  28.000000\n",
       "2018-07-17 19:50:00.000  23.370000\n",
       "2018-07-17 22:20:00.000  20.000000\n",
       "2018-07-18 00:50:00.000  17.490000\n",
       "2018-07-18 03:50:00.000  15.000000\n",
       "2018-07-18 06:20:00.000  17.320000\n",
       "2018-07-18 08:50:00.000  20.350000\n",
       "2018-07-18 11:20:00.000  22.750000\n",
       "2018-07-18 14:20:00.000  23.320000\n",
       "2018-07-18 16:50:00.000  22.740000\n",
       "\n",
       "[41696 rows x 1 columns]"
      ]
     },
     "execution_count": 96,
     "metadata": {},
     "output_type": "execute_result"
    }
   ],
   "source": [
    "test_merge"
   ]
  },
  {
   "cell_type": "code",
   "execution_count": null,
   "metadata": {},
   "outputs": [],
   "source": []
  },
  {
   "cell_type": "code",
   "execution_count": null,
   "metadata": {},
   "outputs": [],
   "source": []
  },
  {
   "cell_type": "code",
   "execution_count": null,
   "metadata": {},
   "outputs": [],
   "source": []
  },
  {
   "cell_type": "code",
   "execution_count": 91,
   "metadata": {},
   "outputs": [
    {
     "data": {
      "text/plain": [
       "[<matplotlib.lines.Line2D at 0x1daf0d4bba8>,\n",
       " <matplotlib.lines.Line2D at 0x1daf0dea358>]"
      ]
     },
     "execution_count": 91,
     "metadata": {},
     "output_type": "execute_result"
    },
    {
     "data": {
      "image/png": "[encoded data removed]",
      "text/plain": [
       "<Figure size 1440x720 with 1 Axes>"
      ]
     },
     "metadata": {},
     "output_type": "display_data"
    }
   ],
   "source": [
    "plt.figure(figsize=(20,10))\n",
    "plt.plot(rolling_owm['temp'],'r-', rolling['temp']-15,'b-')"
   ]
  },
  {
   "cell_type": "code",
   "execution_count": 74,
   "metadata": {},
   "outputs": [
    {
     "ename": "AttributeError",
     "evalue": "'DataFrame' object has no attribute 'is_monotonic'",
     "output_type": "error",
     "traceback": [
      "\u001b[1;31m---------------------------------------------------------------------------\u001b[0m",
      "\u001b[1;31mAttributeError\u001b[0m                            Traceback (most recent call last)",
      "\u001b[1;32m<ipython-input-74-420acff79202>\u001b[0m in \u001b[0;36m<module>\u001b[1;34m()\u001b[0m\n\u001b[1;32m----> 1\u001b[1;33m \u001b[0mtest_merge\u001b[0m\u001b[1;33m.\u001b[0m\u001b[0mis_monotonic\u001b[0m\u001b[1;33m(\u001b[0m\u001b[1;33m)\u001b[0m\u001b[1;33m\u001b[0m\u001b[0m\n\u001b[0m",
      "\u001b[1;32m~\\Anaconda3\\lib\\site-packages\\pandas\\core\\generic.py\u001b[0m in \u001b[0;36m__getattr__\u001b[1;34m(self, name)\u001b[0m\n\u001b[0;32m   4370\u001b[0m             \u001b[1;32mif\u001b[0m \u001b[0mself\u001b[0m\u001b[1;33m.\u001b[0m\u001b[0m_info_axis\u001b[0m\u001b[1;33m.\u001b[0m\u001b[0m_can_hold_identifiers_and_holds_name\u001b[0m\u001b[1;33m(\u001b[0m\u001b[0mname\u001b[0m\u001b[1;33m)\u001b[0m\u001b[1;33m:\u001b[0m\u001b[1;33m\u001b[0m\u001b[0m\n\u001b[0;32m   4371\u001b[0m                 \u001b[1;32mreturn\u001b[0m \u001b[0mself\u001b[0m\u001b[1;33m[\u001b[0m\u001b[0mname\u001b[0m\u001b[1;33m]\u001b[0m\u001b[1;33m\u001b[0m\u001b[0m\n\u001b[1;32m-> 4372\u001b[1;33m             \u001b[1;32mreturn\u001b[0m \u001b[0mobject\u001b[0m\u001b[1;33m.\u001b[0m\u001b[0m__getattribute__\u001b[0m\u001b[1;33m(\u001b[0m\u001b[0mself\u001b[0m\u001b[1;33m,\u001b[0m \u001b[0mname\u001b[0m\u001b[1;33m)\u001b[0m\u001b[1;33m\u001b[0m\u001b[0m\n\u001b[0m\u001b[0;32m   4373\u001b[0m \u001b[1;33m\u001b[0m\u001b[0m\n\u001b[0;32m   4374\u001b[0m     \u001b[1;32mdef\u001b[0m \u001b[0m__setattr__\u001b[0m\u001b[1;33m(\u001b[0m\u001b[0mself\u001b[0m\u001b[1;33m,\u001b[0m \u001b[0mname\u001b[0m\u001b[1;33m,\u001b[0m \u001b[0mvalue\u001b[0m\u001b[1;33m)\u001b[0m\u001b[1;33m:\u001b[0m\u001b[1;33m\u001b[0m\u001b[0m\n",
      "\u001b[1;31mAttributeError\u001b[0m: 'DataFrame' object has no attribute 'is_monotonic'"
     ]
    }
   ],
   "source": [
    "test_merge"
   ]
  },
  {
   "cell_type": "code",
   "execution_count": null,
   "metadata": {},
   "outputs": [],
   "source": []
  }
 ],
 "metadata": {
  "kernelspec": {
   "display_name": "Python 3",
   "language": "python",
   "name": "python3"
  },
  "language_info": {
   "codemirror_mode": {
    "name": "ipython",
    "version": 3
   },
   "file_extension": ".py",
   "mimetype": "text/x-python",
   "name": "python",
   "nbconvert_exporter": "python",
   "pygments_lexer": "ipython3",
   "version": "3.6.5"
  }
 },
 "nbformat": 4,
 "nbformat_minor": 2
}
