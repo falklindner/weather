{
 "cells": [
  {
   "cell_type": "code",
   "execution_count": 1,
   "metadata": {},
   "outputs": [],
   "source": [
    "import pandas as pd\n",
    "import time \n",
    "import json\n",
    "import urllib.request\n",
    "from datetime import timedelta\n",
    "import numpy as np\n",
    "import matplotlib.pyplot as plt\n",
    "import seaborn as sn\n",
    "from sklearn.model_selection import learning_curve\n",
    "from sklearn.model_selection import ShuffleSplit\n",
    "from pandas.io.json import json_normalize\n",
    "from joblib import Parallel, delayed"
   ]
  },
  {
   "cell_type": "markdown",
   "metadata": {},
   "source": [
    "## Importing RPi JSON Data to DataFrame"
   ]
  },
  {
   "cell_type": "code",
   "execution_count": 2,
   "metadata": {},
   "outputs": [
    {
     "data": {
      "text/html": [
       "<div>\n",
       "<style scoped>\n",
       "    .dataframe tbody tr th:only-of-type {\n",
       "        vertical-align: middle;\n",
       "    }\n",
       "\n",
       "    .dataframe tbody tr th {\n",
       "        vertical-align: top;\n",
       "    }\n",
       "\n",
       "    .dataframe thead th {\n",
       "        text-align: right;\n",
       "    }\n",
       "</style>\n",
       "<table border=\"1\" class=\"dataframe\">\n",
       "  <thead>\n",
       "    <tr style=\"text-align: right;\">\n",
       "      <th></th>\n",
       "      <th>humidity</th>\n",
       "      <th>pressure</th>\n",
       "      <th>temp</th>\n",
       "    </tr>\n",
       "    <tr>\n",
       "      <th>time</th>\n",
       "      <th></th>\n",
       "      <th></th>\n",
       "      <th></th>\n",
       "    </tr>\n",
       "  </thead>\n",
       "  <tbody>\n",
       "    <tr>\n",
       "      <th>2018-06-22 16:20:01.656</th>\n",
       "      <td>36.116451</td>\n",
       "      <td>1025.179932</td>\n",
       "      <td>28.907051</td>\n",
       "    </tr>\n",
       "    <tr>\n",
       "      <th>2018-06-22 16:20:40.606</th>\n",
       "      <td>35.238693</td>\n",
       "      <td>1025.148682</td>\n",
       "      <td>28.870728</td>\n",
       "    </tr>\n",
       "    <tr>\n",
       "      <th>2018-06-22 16:21:19.756</th>\n",
       "      <td>35.684219</td>\n",
       "      <td>1025.106445</td>\n",
       "      <td>28.852566</td>\n",
       "    </tr>\n",
       "    <tr>\n",
       "      <th>2018-06-22 16:21:58.636</th>\n",
       "      <td>35.843815</td>\n",
       "      <td>1025.139404</td>\n",
       "      <td>28.907051</td>\n",
       "    </tr>\n",
       "    <tr>\n",
       "      <th>2018-06-22 16:22:37.505</th>\n",
       "      <td>36.053280</td>\n",
       "      <td>1025.058105</td>\n",
       "      <td>28.870728</td>\n",
       "    </tr>\n",
       "  </tbody>\n",
       "</table>\n",
       "</div>"
      ],
      "text/plain": [
       "                          humidity     pressure       temp\n",
       "time                                                      \n",
       "2018-06-22 16:20:01.656  36.116451  1025.179932  28.907051\n",
       "2018-06-22 16:20:40.606  35.238693  1025.148682  28.870728\n",
       "2018-06-22 16:21:19.756  35.684219  1025.106445  28.852566\n",
       "2018-06-22 16:21:58.636  35.843815  1025.139404  28.907051\n",
       "2018-06-22 16:22:37.505  36.053280  1025.058105  28.870728"
      ]
     },
     "execution_count": 2,
     "metadata": {},
     "output_type": "execute_result"
    }
   ],
   "source": [
    "df = pd.read_json(\"https://alte-rs.ddnss.de/weather/processed/history.json\")\n",
    "df['time'] = pd.to_datetime(df['time'])\n",
    "df['temp'] = pd.to_numeric(df['temp'])\n",
    "df['pressure'] = pd.to_numeric(df['pressure'])\n",
    "df['humidity'] = pd.to_numeric(df['humidity'])\n",
    "dataframe_rpi = df.set_index('time')\n",
    "dataframe_rpi.head()"
   ]
  },
  {
   "cell_type": "markdown",
   "metadata": {},
   "source": [
    "## Smoothing RPi Data"
   ]
  },
  {
   "cell_type": "markdown",
   "metadata": {},
   "source": [
    "### Rolling Sums"
   ]
  },
  {
   "cell_type": "code",
   "execution_count": 3,
   "metadata": {},
   "outputs": [
    {
     "data": {
      "text/plain": [
       "humidity    3\n",
       "pressure    3\n",
       "temp        3\n",
       "dtype: int64"
      ]
     },
     "execution_count": 3,
     "metadata": {},
     "output_type": "execute_result"
    }
   ],
   "source": [
    "window_length='10min'\n",
    "min_data_points=2\n",
    "dataframe_rpi_rolling = dataframe_rpi.rolling(window=window_length,min_periods=min_data_points).mean()\n",
    "dataframe_rpi_rolling.isnull().sum()"
   ]
  },
  {
   "cell_type": "markdown",
   "metadata": {},
   "source": [
    "### Resampling"
   ]
  },
  {
   "cell_type": "code",
   "execution_count": 4,
   "metadata": {},
   "outputs": [],
   "source": [
    "dataframe_rpi_resampled = dataframe_rpi.resample('5min').mean()"
   ]
  },
  {
   "cell_type": "markdown",
   "metadata": {},
   "source": [
    "## Importing OWM Data"
   ]
  },
  {
   "cell_type": "code",
   "execution_count": 5,
   "metadata": {},
   "outputs": [
    {
     "data": {
      "text/html": [
       "<div>\n",
       "<style scoped>\n",
       "    .dataframe tbody tr th:only-of-type {\n",
       "        vertical-align: middle;\n",
       "    }\n",
       "\n",
       "    .dataframe tbody tr th {\n",
       "        vertical-align: top;\n",
       "    }\n",
       "\n",
       "    .dataframe thead th {\n",
       "        text-align: right;\n",
       "    }\n",
       "</style>\n",
       "<table border=\"1\" class=\"dataframe\">\n",
       "  <thead>\n",
       "    <tr style=\"text-align: right;\">\n",
       "      <th></th>\n",
       "      <th>temp</th>\n",
       "      <th>pressure</th>\n",
       "      <th>humidity</th>\n",
       "    </tr>\n",
       "    <tr>\n",
       "      <th>time</th>\n",
       "      <th></th>\n",
       "      <th></th>\n",
       "      <th></th>\n",
       "    </tr>\n",
       "  </thead>\n",
       "  <tbody>\n",
       "    <tr>\n",
       "      <th>2018-06-16 20:30:00</th>\n",
       "      <td>17.509474</td>\n",
       "      <td>1013.0</td>\n",
       "      <td>77.0</td>\n",
       "    </tr>\n",
       "    <tr>\n",
       "      <th>2018-06-16 21:00:00</th>\n",
       "      <td>18.010000</td>\n",
       "      <td>1013.0</td>\n",
       "      <td>77.0</td>\n",
       "    </tr>\n",
       "    <tr>\n",
       "      <th>2018-06-16 21:30:00</th>\n",
       "      <td>18.010000</td>\n",
       "      <td>1013.0</td>\n",
       "      <td>77.0</td>\n",
       "    </tr>\n",
       "    <tr>\n",
       "      <th>2018-06-16 22:00:00</th>\n",
       "      <td>17.506667</td>\n",
       "      <td>1013.0</td>\n",
       "      <td>77.0</td>\n",
       "    </tr>\n",
       "    <tr>\n",
       "      <th>2018-06-16 22:30:00</th>\n",
       "      <td>17.000000</td>\n",
       "      <td>1013.0</td>\n",
       "      <td>82.0</td>\n",
       "    </tr>\n",
       "  </tbody>\n",
       "</table>\n",
       "</div>"
      ],
      "text/plain": [
       "                          temp  pressure  humidity\n",
       "time                                              \n",
       "2018-06-16 20:30:00  17.509474    1013.0      77.0\n",
       "2018-06-16 21:00:00  18.010000    1013.0      77.0\n",
       "2018-06-16 21:30:00  18.010000    1013.0      77.0\n",
       "2018-06-16 22:00:00  17.506667    1013.0      77.0\n",
       "2018-06-16 22:30:00  17.000000    1013.0      82.0"
      ]
     },
     "execution_count": 5,
     "metadata": {},
     "output_type": "execute_result"
    }
   ],
   "source": [
    "with urllib.request.urlopen(\"https://alte-rs.ddnss.de/weather/processed/history_owm.json\") as url:\n",
    "    data = json.loads(url.read().decode())\n",
    "init_table = json_normalize(data)\n",
    "weather_descr = json_normalize(data,record_path=['weather'],record_prefix='weather.')\n",
    "temp = init_table.join(weather_descr)\n",
    "temp['time'] = pd.to_datetime(temp['dt'],unit='s')\n",
    "temp['temp'] = pd.to_numeric(temp['main.temp'])-273.15\n",
    "temp['humidity'] = pd.to_numeric(temp['main.humidity'])\n",
    "temp['pressure'] = pd.to_numeric(temp['main.pressure'])\n",
    "dataframe_owm = temp.set_index('time')\n",
    "dataframe_owm_resampled = dataframe_owm[['temp','pressure','humidity']].resample('30min').mean()\n",
    "dataframe_owm_resampled.head()"
   ]
  },
  {
   "cell_type": "markdown",
   "metadata": {},
   "source": [
    "## Creating Feature Matrix and Prediction Vector"
   ]
  },
  {
   "cell_type": "markdown",
   "metadata": {},
   "source": [
    "### Reducing the input values to a maxmimum of one row every 5min"
   ]
  },
  {
   "cell_type": "code",
   "execution_count": 6,
   "metadata": {},
   "outputs": [
    {
     "data": {
      "text/html": [
       "<div>\n",
       "<style scoped>\n",
       "    .dataframe tbody tr th:only-of-type {\n",
       "        vertical-align: middle;\n",
       "    }\n",
       "\n",
       "    .dataframe tbody tr th {\n",
       "        vertical-align: top;\n",
       "    }\n",
       "\n",
       "    .dataframe thead th {\n",
       "        text-align: right;\n",
       "    }\n",
       "</style>\n",
       "<table border=\"1\" class=\"dataframe\">\n",
       "  <thead>\n",
       "    <tr style=\"text-align: right;\">\n",
       "      <th></th>\n",
       "      <th>humidity</th>\n",
       "      <th>pressure</th>\n",
       "      <th>temp</th>\n",
       "    </tr>\n",
       "    <tr>\n",
       "      <th>time</th>\n",
       "      <th></th>\n",
       "      <th></th>\n",
       "      <th></th>\n",
       "    </tr>\n",
       "  </thead>\n",
       "  <tbody>\n",
       "    <tr>\n",
       "      <th>2018-06-22 16:25:30.796</th>\n",
       "      <td>35.743404</td>\n",
       "      <td>1025.125806</td>\n",
       "      <td>28.879808</td>\n",
       "    </tr>\n",
       "    <tr>\n",
       "      <th>2018-06-22 16:30:44.135</th>\n",
       "      <td>36.051825</td>\n",
       "      <td>1025.124542</td>\n",
       "      <td>28.802618</td>\n",
       "    </tr>\n",
       "    <tr>\n",
       "      <th>2018-06-22 16:36:02.356</th>\n",
       "      <td>37.181235</td>\n",
       "      <td>1025.162430</td>\n",
       "      <td>28.506343</td>\n",
       "    </tr>\n",
       "    <tr>\n",
       "      <th>2018-06-22 16:41:20.815</th>\n",
       "      <td>38.239161</td>\n",
       "      <td>1025.227509</td>\n",
       "      <td>28.176015</td>\n",
       "    </tr>\n",
       "    <tr>\n",
       "      <th>2018-06-22 16:46:39.475</th>\n",
       "      <td>38.701938</td>\n",
       "      <td>1025.252014</td>\n",
       "      <td>28.105636</td>\n",
       "    </tr>\n",
       "  </tbody>\n",
       "</table>\n",
       "</div>"
      ],
      "text/plain": [
       "                          humidity     pressure       temp\n",
       "time                                                      \n",
       "2018-06-22 16:25:30.796  35.743404  1025.125806  28.879808\n",
       "2018-06-22 16:30:44.135  36.051825  1025.124542  28.802618\n",
       "2018-06-22 16:36:02.356  37.181235  1025.162430  28.506343\n",
       "2018-06-22 16:41:20.815  38.239161  1025.227509  28.176015\n",
       "2018-06-22 16:46:39.475  38.701938  1025.252014  28.105636"
      ]
     },
     "execution_count": 6,
     "metadata": {},
     "output_type": "execute_result"
    }
   ],
   "source": [
    "time_step = timedelta(minutes = 5)\n",
    "init = dataframe_rpi_rolling.index[0]\n",
    "\n",
    "for time in dataframe_rpi_rolling.index:\n",
    "    if time-init > time_step:\n",
    "        init = time\n",
    "    else:\n",
    "        dataframe_rpi_rolling = dataframe_rpi_rolling.drop(time)\n",
    "dataframe_rpi_rolling.head()"
   ]
  },
  {
   "cell_type": "markdown",
   "metadata": {},
   "source": [
    "### Creating prediction matrix y "
   ]
  },
  {
   "cell_type": "code",
   "execution_count": 7,
   "metadata": {},
   "outputs": [
    {
     "name": "stdout",
     "output_type": "stream",
     "text": [
      "(8530, 3)\n",
      "humidity    1125\n",
      "pressure    1125\n",
      "temp        1125\n",
      "dtype: int64\n"
     ]
    }
   ],
   "source": [
    "prediction_steps = 20\n",
    "history_steps = 20\n",
    "\n",
    "y = dataframe_rpi_resampled[ prediction_steps + history_steps :]\n",
    "y_index = dataframe_rpi_resampled[ prediction_steps + history_steps :].index\n",
    "\n",
    "length = len(y)\n",
    "print(y.shape)\n",
    "print(np.isnan(y).sum())"
   ]
  },
  {
   "cell_type": "markdown",
   "metadata": {},
   "source": [
    "### Creating input matrix x, which contains 20 consequtive historical values (time steps)"
   ]
  },
  {
   "cell_type": "code",
   "execution_count": 8,
   "metadata": {},
   "outputs": [
    {
     "name": "stdout",
     "output_type": "stream",
     "text": [
      "(8530, 60)\n",
      "67500\n"
     ]
    }
   ],
   "source": [
    "x = np.empty((length,60))\n",
    "\n",
    "def xrow (start):\n",
    "    return dataframe_rpi_resampled[ start : start + history_steps ].values.flatten();\n",
    "\n",
    "for n in  range(0,length):\n",
    "    x[n] =xrow(n)\n",
    "print(x.shape)\n",
    "print(np.isnan(x).sum())"
   ]
  },
  {
   "cell_type": "markdown",
   "metadata": {},
   "source": [
    "## Using Imputer to get rid of NaNs\n"
   ]
  },
  {
   "cell_type": "code",
   "execution_count": 9,
   "metadata": {},
   "outputs": [],
   "source": [
    "from sklearn.preprocessing import Imputer\n",
    "imputer = Imputer(missing_values = 'NaN', strategy = 'mean', axis = 0)\n",
    "imputer = imputer.fit(x)\n",
    "x_imputer = imputer.transform(x)\n",
    "imputer = imputer.fit(y)\n",
    "y_imputer = pd.DataFrame(data=imputer.transform(y), columns=['humidity','pressure','temp'], index=y_index)"
   ]
  },
  {
   "cell_type": "markdown",
   "metadata": {},
   "source": [
    "## Splitting up into training and testing"
   ]
  },
  {
   "cell_type": "code",
   "execution_count": 12,
   "metadata": {},
   "outputs": [],
   "source": [
    "#from sklearn.model_selection import train_test_split\n",
    "#X_train, X_test, y_train, y_test = train_test_split(x, Y, test_size = 1/3, random_state = 0)\n",
    "cut=4640\n",
    "y_train = y_imputer[0:cut]\n",
    "x_train = x_imputer[0:cut]\n",
    "y_test = y_imputer[cut:]\n",
    "x_test = x_imputer[cut:]"
   ]
  },
  {
   "cell_type": "markdown",
   "metadata": {},
   "source": [
    "## Scaling the features"
   ]
  },
  {
   "cell_type": "code",
   "execution_count": 13,
   "metadata": {},
   "outputs": [],
   "source": [
    "from sklearn.preprocessing import StandardScaler\n",
    "scaler = StandardScaler()\n",
    "\n",
    "x_train_sc = scaler.fit_transform(x_train)\n",
    "x_test_sc = scaler.transform(x_test)"
   ]
  },
  {
   "cell_type": "markdown",
   "metadata": {},
   "source": [
    "## Learning with linear regression"
   ]
  },
  {
   "cell_type": "code",
   "execution_count": 18,
   "metadata": {},
   "outputs": [
    {
     "data": {
      "text/plain": [
       "LinearRegression(copy_X=True, fit_intercept=False, n_jobs=-1, normalize=False)"
      ]
     },
     "execution_count": 18,
     "metadata": {},
     "output_type": "execute_result"
    }
   ],
   "source": [
    "from sklearn.linear_model import LinearRegression\n",
    "regressor = LinearRegression(fit_intercept = False, n_jobs=-1)\n",
    "regressor.fit(x_train_sc, y_train['temp'])"
   ]
  },
  {
   "cell_type": "code",
   "execution_count": 22,
   "metadata": {},
   "outputs": [],
   "source": [
    "y_test_pred = pd.DataFrame(data=regressor.predict(x_test), index=y_test.index)\n",
    "y_train_pred = pd.DataFrame(data=regressor.predict(x_train), index=y_train.index)"
   ]
  },
  {
   "cell_type": "code",
   "execution_count": 28,
   "metadata": {},
   "outputs": [
    {
     "data": {
      "text/plain": [
       "[<matplotlib.lines.Line2D at 0x22581e13780>,\n",
       " <matplotlib.lines.Line2D at 0x22581e39390>]"
      ]
     },
     "execution_count": 28,
     "metadata": {},
     "output_type": "execute_result"
    },
    {
     "data": {
      "image/png": "[encoded data removed]",
      "text/plain": [
       "<Figure size 1440x720 with 1 Axes>"
      ]
     },
     "metadata": {},
     "output_type": "display_data"
    }
   ],
   "source": [
    "plt.figure(figsize=(20,10))\n",
    "plt.plot(y_train_pred,'r-',y_train['temp'],'b-')"
   ]
  },
  {
   "cell_type": "code",
   "execution_count": 23,
   "metadata": {},
   "outputs": [
    {
     "data": {
      "text/html": [
       "<div>\n",
       "<style scoped>\n",
       "    .dataframe tbody tr th:only-of-type {\n",
       "        vertical-align: middle;\n",
       "    }\n",
       "\n",
       "    .dataframe tbody tr th {\n",
       "        vertical-align: top;\n",
       "    }\n",
       "\n",
       "    .dataframe thead th {\n",
       "        text-align: right;\n",
       "    }\n",
       "</style>\n",
       "<table border=\"1\" class=\"dataframe\">\n",
       "  <thead>\n",
       "    <tr style=\"text-align: right;\">\n",
       "      <th></th>\n",
       "      <th>0</th>\n",
       "    </tr>\n",
       "    <tr>\n",
       "      <th>time</th>\n",
       "      <th></th>\n",
       "    </tr>\n",
       "  </thead>\n",
       "  <tbody>\n",
       "    <tr>\n",
       "      <th>2018-07-08 22:20:00</th>\n",
       "      <td>108.388773</td>\n",
       "    </tr>\n",
       "    <tr>\n",
       "      <th>2018-07-08 22:25:00</th>\n",
       "      <td>108.388773</td>\n",
       "    </tr>\n",
       "    <tr>\n",
       "      <th>2018-07-08 22:30:00</th>\n",
       "      <td>108.388773</td>\n",
       "    </tr>\n",
       "    <tr>\n",
       "      <th>2018-07-08 22:35:00</th>\n",
       "      <td>108.388773</td>\n",
       "    </tr>\n",
       "    <tr>\n",
       "      <th>2018-07-08 22:40:00</th>\n",
       "      <td>108.388773</td>\n",
       "    </tr>\n",
       "  </tbody>\n",
       "</table>\n",
       "</div>"
      ],
      "text/plain": [
       "                              0\n",
       "time                           \n",
       "2018-07-08 22:20:00  108.388773\n",
       "2018-07-08 22:25:00  108.388773\n",
       "2018-07-08 22:30:00  108.388773\n",
       "2018-07-08 22:35:00  108.388773\n",
       "2018-07-08 22:40:00  108.388773"
      ]
     },
     "execution_count": 23,
     "metadata": {},
     "output_type": "execute_result"
    }
   ],
   "source": [
    "y_test_pred.head()"
   ]
  },
  {
   "cell_type": "code",
   "execution_count": null,
   "metadata": {},
   "outputs": [],
   "source": []
  }
 ],
 "metadata": {
  "kernelspec": {
   "display_name": "Python 3",
   "language": "python",
   "name": "python3"
  },
  "language_info": {
   "codemirror_mode": {
    "name": "ipython",
    "version": 3
   },
   "file_extension": ".py",
   "mimetype": "text/x-python",
   "name": "python",
   "nbconvert_exporter": "python",
   "pygments_lexer": "ipython3",
   "version": "3.6.5"
  }
 },
 "nbformat": 4,
 "nbformat_minor": 2
}
